{
 "cells": [
  {
   "cell_type": "markdown",
   "metadata": {},
   "source": [
    "# Beer Distribution Game Reinforcement Learning"
   ]
  },
  {
   "cell_type": "code",
   "execution_count": 1,
   "metadata": {},
   "outputs": [
    {
     "name": "stdout",
     "output_type": "stream",
     "text": [
      "\n",
      "    Détails entraînement scenario :  \n",
      "    - Prix stockage : 0.5$ par unité\n",
      "    - Prix backorder : 2$ par unité\n",
      "    - Minimum inventoy cost : 200$ \n",
      "    - Target Inventory : 400$\n",
      "    - Weekly order consumer : 400 units\n",
      "    - Simulation sur 24 semaines\n",
      "\n"
     ]
    }
   ],
   "source": [
    "import json\n",
    "from BPTK_Py.bptk import bptk\n",
    "from src.abm.q_learning_ob.beergame import BeergameQlOB\n",
    "from src.abm.q_learning_base.sparseQTable import SparseQTable\n",
    "\n",
    "# Scenario on which the RL was performed\n",
    "SCENARIO_TRAIN = 'scenario_3'\n",
    "\n",
    "# Scenario to play\n",
    "SCENARIO_PLAY = 'scenario_3'\n",
    "\n",
    "# Les agents que l'on veut plotter\n",
    "agents = [\"brewery\", \"distributor\", \"wholesaler\", \"retailer\"]\n",
    "\n",
    "# Where to find the scenarios\n",
    "FILE_PATH_SCENARIOS = './scenarios/beergame_ql_ob.json'\n",
    "\n",
    "# Show the data for the scenario\n",
    "with open(FILE_PATH_SCENARIOS, 'r') as f:\n",
    "    data = json.load(f)\n",
    "    nbres_semaines = data['smBeergameQlOB']['scenarios'][SCENARIO_TRAIN]['runspecs']['stoptime']\n",
    "    backorder_item_cost = data['smBeergameQlOB']['scenarios'][SCENARIO_TRAIN]['properties']['backorder_item_cost']['value']\n",
    "    inventory_item_cost = data['smBeergameQlOB']['scenarios'][SCENARIO_TRAIN]['properties']['inventory_item_cost']['value']\n",
    "    minimum_inventory_cost = data['smBeergameQlOB']['scenarios'][\n",
    "        SCENARIO_TRAIN]['properties']['minimum_inventory_cost']['value']\n",
    "    target_inventory = data['smBeergameQlOB']['scenarios'][SCENARIO_TRAIN]['properties']['target_inventory']['value']\n",
    "    weekly_order = data['smBeergameQlOB']['scenarios'][SCENARIO_TRAIN]['agents'][0]['properties']['weekly_order']['value']\n",
    "\n",
    "print(f\"\"\"\n",
    "    Détails entraînement scenario :  \n",
    "    - Prix stockage : {inventory_item_cost}$ par unité\n",
    "    - Prix backorder : {backorder_item_cost}$ par unité\n",
    "    - Minimum inventoy cost : {minimum_inventory_cost}$ \n",
    "    - Target Inventory : {target_inventory}$\n",
    "    - Weekly order consumer : {weekly_order} units\n",
    "    - Simulation sur {nbres_semaines} semaines\n",
    "\"\"\")\n",
    "\n",
    "\n",
    "\n",
    "# Initialisation du principal composant\n",
    "bptk = bptk()\n",
    "\n",
    "# Initialisation des Sparses Q-Tables\n",
    "BeergameQlOB.brewery_q_table = SparseQTable(dimension=1)\n",
    "BeergameQlOB.distributor_q_table = SparseQTable(dimension=1)\n",
    "BeergameQlOB.wholesaler_q_table = SparseQTable(dimension=1)\n",
    "BeergameQlOB.retailer_q_table = SparseQTable(dimension=1)\n",
    "\n",
    "# Chargement des Q-Tables entraînées pour le scénario.\n",
    "BeergameQlOB.load_q_tables(f\"data/q_tables_{SCENARIO_TRAIN}.json\", \"JSON\")\n",
    "# BeergameQlOB.load_q_tables(f\"data/q_tables_50000.json\", \"JSON\")\n",
    "# Initialisation du scénario retenu\n",
    "bptk.reset_scenario(\n",
    "    scenario_manager=\"smBeergameQlOB\",\n",
    "    scenario=SCENARIO_PLAY\n",
    ")"
   ]
  },
  {
   "cell_type": "markdown",
   "metadata": {},
   "source": [
    "## Résultat des Simulations"
   ]
  },
  {
   "cell_type": "markdown",
   "metadata": {
    "tags": []
   },
   "source": [
    "### Order Balance"
   ]
  },
  {
   "cell_type": "code",
   "execution_count": 2,
   "metadata": {},
   "outputs": [
    {
     "data": {
      "text/html": [
       "<div>\n",
       "<style scoped>\n",
       "    .dataframe tbody tr th:only-of-type {\n",
       "        vertical-align: middle;\n",
       "    }\n",
       "\n",
       "    .dataframe tbody tr th {\n",
       "        vertical-align: top;\n",
       "    }\n",
       "\n",
       "    .dataframe thead th {\n",
       "        text-align: right;\n",
       "    }\n",
       "</style>\n",
       "<table border=\"1\" class=\"dataframe\">\n",
       "  <thead>\n",
       "    <tr style=\"text-align: right;\">\n",
       "      <th></th>\n",
       "      <th>brewery</th>\n",
       "      <th>distributor</th>\n",
       "      <th>wholesaler</th>\n",
       "      <th>retailer</th>\n",
       "    </tr>\n",
       "    <tr>\n",
       "      <th>t</th>\n",
       "      <th></th>\n",
       "      <th></th>\n",
       "      <th></th>\n",
       "      <th></th>\n",
       "    </tr>\n",
       "  </thead>\n",
       "  <tbody>\n",
       "    <tr>\n",
       "      <th>1.0</th>\n",
       "      <td>107</td>\n",
       "      <td>138</td>\n",
       "      <td>595</td>\n",
       "      <td>111</td>\n",
       "    </tr>\n",
       "    <tr>\n",
       "      <th>2.0</th>\n",
       "      <td>896</td>\n",
       "      <td>711</td>\n",
       "      <td>156</td>\n",
       "      <td>521</td>\n",
       "    </tr>\n",
       "    <tr>\n",
       "      <th>3.0</th>\n",
       "      <td>538</td>\n",
       "      <td>132</td>\n",
       "      <td>115</td>\n",
       "      <td>411</td>\n",
       "    </tr>\n",
       "    <tr>\n",
       "      <th>4.0</th>\n",
       "      <td>0</td>\n",
       "      <td>537</td>\n",
       "      <td>453</td>\n",
       "      <td>459</td>\n",
       "    </tr>\n",
       "    <tr>\n",
       "      <th>5.0</th>\n",
       "      <td>19</td>\n",
       "      <td>0</td>\n",
       "      <td>707</td>\n",
       "      <td>441</td>\n",
       "    </tr>\n",
       "    <tr>\n",
       "      <th>6.0</th>\n",
       "      <td>198</td>\n",
       "      <td>735</td>\n",
       "      <td>150</td>\n",
       "      <td>557</td>\n",
       "    </tr>\n",
       "    <tr>\n",
       "      <th>7.0</th>\n",
       "      <td>841</td>\n",
       "      <td>98</td>\n",
       "      <td>810</td>\n",
       "      <td>100</td>\n",
       "    </tr>\n",
       "    <tr>\n",
       "      <th>8.0</th>\n",
       "      <td>8</td>\n",
       "      <td>844</td>\n",
       "      <td>256</td>\n",
       "      <td>412</td>\n",
       "    </tr>\n",
       "    <tr>\n",
       "      <th>9.0</th>\n",
       "      <td>989</td>\n",
       "      <td>405</td>\n",
       "      <td>565</td>\n",
       "      <td>415</td>\n",
       "    </tr>\n",
       "    <tr>\n",
       "      <th>10.0</th>\n",
       "      <td>336</td>\n",
       "      <td>661</td>\n",
       "      <td>0</td>\n",
       "      <td>552</td>\n",
       "    </tr>\n",
       "    <tr>\n",
       "      <th>11.0</th>\n",
       "      <td>905</td>\n",
       "      <td>59</td>\n",
       "      <td>815</td>\n",
       "      <td>132</td>\n",
       "    </tr>\n",
       "    <tr>\n",
       "      <th>12.0</th>\n",
       "      <td>214</td>\n",
       "      <td>760</td>\n",
       "      <td>177</td>\n",
       "      <td>521</td>\n",
       "    </tr>\n",
       "    <tr>\n",
       "      <th>13.0</th>\n",
       "      <td>300</td>\n",
       "      <td>171</td>\n",
       "      <td>301</td>\n",
       "      <td>411</td>\n",
       "    </tr>\n",
       "    <tr>\n",
       "      <th>14.0</th>\n",
       "      <td>100</td>\n",
       "      <td>21</td>\n",
       "      <td>515</td>\n",
       "      <td>459</td>\n",
       "    </tr>\n",
       "    <tr>\n",
       "      <th>15.0</th>\n",
       "      <td>0</td>\n",
       "      <td>765</td>\n",
       "      <td>545</td>\n",
       "      <td>441</td>\n",
       "    </tr>\n",
       "    <tr>\n",
       "      <th>16.0</th>\n",
       "      <td>279</td>\n",
       "      <td>259</td>\n",
       "      <td>419</td>\n",
       "      <td>557</td>\n",
       "    </tr>\n",
       "    <tr>\n",
       "      <th>17.0</th>\n",
       "      <td>943</td>\n",
       "      <td>1028</td>\n",
       "      <td>585</td>\n",
       "      <td>100</td>\n",
       "    </tr>\n",
       "    <tr>\n",
       "      <th>18.0</th>\n",
       "      <td>932</td>\n",
       "      <td>396</td>\n",
       "      <td>0</td>\n",
       "      <td>412</td>\n",
       "    </tr>\n",
       "    <tr>\n",
       "      <th>19.0</th>\n",
       "      <td>629</td>\n",
       "      <td>0</td>\n",
       "      <td>470</td>\n",
       "      <td>415</td>\n",
       "    </tr>\n",
       "    <tr>\n",
       "      <th>20.0</th>\n",
       "      <td>139</td>\n",
       "      <td>719</td>\n",
       "      <td>217</td>\n",
       "      <td>552</td>\n",
       "    </tr>\n",
       "    <tr>\n",
       "      <th>21.0</th>\n",
       "      <td>208</td>\n",
       "      <td>0</td>\n",
       "      <td>785</td>\n",
       "      <td>132</td>\n",
       "    </tr>\n",
       "    <tr>\n",
       "      <th>22.0</th>\n",
       "      <td>30</td>\n",
       "      <td>656</td>\n",
       "      <td>102</td>\n",
       "      <td>521</td>\n",
       "    </tr>\n",
       "    <tr>\n",
       "      <th>23.0</th>\n",
       "      <td>587</td>\n",
       "      <td>140</td>\n",
       "      <td>648</td>\n",
       "      <td>411</td>\n",
       "    </tr>\n",
       "    <tr>\n",
       "      <th>24.0</th>\n",
       "      <td>715</td>\n",
       "      <td>862</td>\n",
       "      <td>33</td>\n",
       "      <td>459</td>\n",
       "    </tr>\n",
       "  </tbody>\n",
       "</table>\n",
       "</div>"
      ],
      "text/plain": [
       "      brewery  distributor  wholesaler  retailer\n",
       "t                                               \n",
       "1.0       107          138         595       111\n",
       "2.0       896          711         156       521\n",
       "3.0       538          132         115       411\n",
       "4.0         0          537         453       459\n",
       "5.0        19            0         707       441\n",
       "6.0       198          735         150       557\n",
       "7.0       841           98         810       100\n",
       "8.0         8          844         256       412\n",
       "9.0       989          405         565       415\n",
       "10.0      336          661           0       552\n",
       "11.0      905           59         815       132\n",
       "12.0      214          760         177       521\n",
       "13.0      300          171         301       411\n",
       "14.0      100           21         515       459\n",
       "15.0        0          765         545       441\n",
       "16.0      279          259         419       557\n",
       "17.0      943         1028         585       100\n",
       "18.0      932          396           0       412\n",
       "19.0      629            0         470       415\n",
       "20.0      139          719         217       552\n",
       "21.0      208            0         785       132\n",
       "22.0       30          656         102       521\n",
       "23.0      587          140         648       411\n",
       "24.0      715          862          33       459"
      ]
     },
     "execution_count": 2,
     "metadata": {},
     "output_type": "execute_result"
    }
   ],
   "source": [
    "df_order_balance = bptk.plot_scenarios(\n",
    "    scenario_managers=[\"smBeergameQlOB\"],\n",
    "    scenarios=[SCENARIO_PLAY],\n",
    "    agents=agents,\n",
    "    agent_states=[\"active\"],\n",
    "    agent_properties=[\"outgoing_order\"],\n",
    "    agent_property_types=[\"total\"],\n",
    "    return_df=True\n",
    ")\n",
    "\n",
    "df_order_balance.columns = agents\n",
    "df_order_balance"
   ]
  },
  {
   "cell_type": "code",
   "execution_count": null,
   "metadata": {},
   "outputs": [],
   "source": [
    "df_order_balance = bptk.plot_scenarios(\n",
    "    scenario_managers=[\"smBeergameQlOB\"],\n",
    "    scenarios=[SCENARIO_PLAY],\n",
    "    agents=agents,\n",
    "    agent_states=[\"active\"],\n",
    "    agent_properties=[\"order_balance\"],\n",
    "    agent_property_types=[\"total\"],\n",
    "    return_df=True\n",
    ")\n",
    "\n",
    "df_order_balance.columns = agents"
   ]
  },
  {
   "cell_type": "markdown",
   "metadata": {},
   "source": [
    "**Ci dessous :**\n",
    "\n",
    "Le détail semaine par semaine de l'Order balance "
   ]
  },
  {
   "cell_type": "code",
   "execution_count": null,
   "metadata": {
    "tags": []
   },
   "outputs": [],
   "source": [
    "df_order_balance"
   ]
  },
  {
   "cell_type": "code",
   "execution_count": null,
   "metadata": {
    "tags": []
   },
   "outputs": [],
   "source": [
    "df_order_balance.plot.area(\n",
    "    title='Order balance',\n",
    "    stacked=False,\n",
    "    figsize=(14, 6)\n",
    ")"
   ]
  },
  {
   "cell_type": "markdown",
   "metadata": {
    "tags": []
   },
   "source": [
    "### Outgoing Orders"
   ]
  },
  {
   "cell_type": "code",
   "execution_count": null,
   "metadata": {
    "tags": []
   },
   "outputs": [],
   "source": [
    "df_outgoing_orders = bptk.plot_scenarios(\n",
    "    scenario_managers=[\"smBeergameQlOB\"],\n",
    "    scenarios=[SCENARIO_NAME],\n",
    "    agents=agents,\n",
    "    agent_states=[\"active\"],\n",
    "    agent_properties=[\"outgoing_order\"],\n",
    "    agent_property_types=[\"total\"],\n",
    "    return_df=True\n",
    ")\n",
    "\n",
    "df_outgoing_orders.columns = agents"
   ]
  },
  {
   "cell_type": "markdown",
   "metadata": {},
   "source": [
    "**Ci dessous :**\n",
    "\n",
    "Le détail semaine par semaine des Outgoing Orders "
   ]
  },
  {
   "cell_type": "code",
   "execution_count": null,
   "metadata": {},
   "outputs": [],
   "source": [
    "df_outgoing_orders"
   ]
  },
  {
   "cell_type": "code",
   "execution_count": null,
   "metadata": {
    "tags": []
   },
   "outputs": [],
   "source": [
    "df_outgoing_orders.plot.area(\n",
    "    title='Outgoing orders',\n",
    "    stacked=False,\n",
    "    figsize=(14, 6)\n",
    ")"
   ]
  },
  {
   "cell_type": "markdown",
   "metadata": {
    "tags": []
   },
   "source": [
    "### Total Cost "
   ]
  },
  {
   "cell_type": "code",
   "execution_count": null,
   "metadata": {
    "tags": []
   },
   "outputs": [],
   "source": [
    "df_total_cost = bptk.plot_scenarios(\n",
    "    scenario_managers=[\"smBeergameQlOB\"],\n",
    "    scenarios=[SCENARIO_NAME],\n",
    "    agents=agents,\n",
    "    agent_states=[\"active\"],\n",
    "    agent_properties=[\"total_cost\"],\n",
    "    agent_property_types=[\"total\"],\n",
    "    return_df=True\n",
    ")\n",
    "\n",
    "df_total_cost.columns = agents"
   ]
  },
  {
   "cell_type": "markdown",
   "metadata": {},
   "source": [
    "**Ci dessous :**\n",
    "\n",
    "Le détail semaine par semaine du Total Cost pour chacun des agents"
   ]
  },
  {
   "cell_type": "code",
   "execution_count": null,
   "metadata": {},
   "outputs": [],
   "source": [
    "df_total_cost"
   ]
  },
  {
   "cell_type": "code",
   "execution_count": null,
   "metadata": {
    "tags": []
   },
   "outputs": [],
   "source": [
    "df_total_cost.columns = agents\n",
    "df_total_cost.plot.area(\n",
    "    title='Total Cost for each Agent',\n",
    "    stacked=False,\n",
    "    figsize=(14, 6)\n",
    ")"
   ]
  },
  {
   "cell_type": "markdown",
   "metadata": {
    "tags": []
   },
   "source": [
    "### Total Cost Supply Chain"
   ]
  },
  {
   "cell_type": "code",
   "execution_count": null,
   "metadata": {
    "tags": []
   },
   "outputs": [],
   "source": [
    "df_global_total_cost = bptk.plot_scenarios(\n",
    "    scenario_managers=[\"smBeergameQlOB\"],\n",
    "    kind=\"area\",\n",
    "    scenarios=[SCENARIO_NAME],\n",
    "    agents=[\"controlling\"],\n",
    "    agent_states=[\"active\"],\n",
    "    agent_properties=[\"supply_chain_cost\"],\n",
    "    agent_property_types=[\"total\"],\n",
    "    return_df=True\n",
    ")\n",
    "df_global_total_cost.columns = ['Total Cost Supply Chain']"
   ]
  },
  {
   "cell_type": "markdown",
   "metadata": {},
   "source": [
    "**Ci dessous :**\n",
    "\n",
    "Le détail semaine par semaine de le **Coût Total pour la Supply Chain**"
   ]
  },
  {
   "cell_type": "code",
   "execution_count": null,
   "metadata": {},
   "outputs": [],
   "source": [
    "df_global_total_cost"
   ]
  },
  {
   "cell_type": "code",
   "execution_count": null,
   "metadata": {
    "tags": []
   },
   "outputs": [],
   "source": [
    "df_global_total_cost.plot.area(\n",
    "    title='Total Cost Supply Chain',\n",
    "    stacked=False,\n",
    "    figsize=(14, 6)\n",
    ")"
   ]
  },
  {
   "cell_type": "markdown",
   "metadata": {
    "tags": []
   },
   "source": [
    "### Inventory "
   ]
  },
  {
   "cell_type": "code",
   "execution_count": null,
   "metadata": {
    "tags": []
   },
   "outputs": [],
   "source": [
    "df_inventory = bptk.plot_scenarios(\n",
    "    scenario_managers=[\"smBeergameQlOB\"],\n",
    "    scenarios=[SCENARIO_NAME],\n",
    "    agents=agents,\n",
    "    agent_states=[\"active\"],\n",
    "    agent_properties=[\"inventory\"],\n",
    "    agent_property_types=[\"total\"],\n",
    "    return_df=True\n",
    ")\n",
    "\n",
    "df_inventory.columns = agents"
   ]
  },
  {
   "cell_type": "markdown",
   "metadata": {},
   "source": [
    "**Ci dessous :**\n",
    "\n",
    "Le détail semaine par semaine de l'**Inventory** "
   ]
  },
  {
   "cell_type": "code",
   "execution_count": null,
   "metadata": {},
   "outputs": [],
   "source": [
    "df_inventory"
   ]
  },
  {
   "cell_type": "code",
   "execution_count": null,
   "metadata": {
    "tags": []
   },
   "outputs": [],
   "source": [
    "df_inventory.plot.area(\n",
    "    title='Inventory Total',\n",
    "    stacked=False,\n",
    "    figsize=(14, 6)\n",
    ")"
   ]
  },
  {
   "cell_type": "markdown",
   "metadata": {},
   "source": [
    "### Backorder"
   ]
  },
  {
   "cell_type": "code",
   "execution_count": null,
   "metadata": {
    "tags": []
   },
   "outputs": [],
   "source": [
    "df_backorder = bptk.plot_scenarios(\n",
    "    scenario_managers=[\"smBeergameQlOB\"],\n",
    "    scenarios=[SCENARIO_NAME],\n",
    "    agents=agents,\n",
    "    agent_states=[\"active\"],\n",
    "    agent_properties=[\"backorder\"],\n",
    "    agent_property_types=[\"total\"],\n",
    "    return_df=True\n",
    ")\n",
    "\n",
    "df_backorder.columns = agents"
   ]
  },
  {
   "cell_type": "markdown",
   "metadata": {},
   "source": [
    "**Ci dessous :**\n",
    "\n",
    "Le détail semaine par semaine des Backorders "
   ]
  },
  {
   "cell_type": "code",
   "execution_count": null,
   "metadata": {},
   "outputs": [],
   "source": [
    "df_backorder"
   ]
  },
  {
   "cell_type": "code",
   "execution_count": null,
   "metadata": {
    "tags": []
   },
   "outputs": [],
   "source": [
    "df_backorder.plot.area(\n",
    "    title='Backorder Total',\n",
    "    stacked=False,\n",
    "    figsize=(14, 6)\n",
    ")"
   ]
  }
 ],
 "metadata": {
  "kernelspec": {
   "display_name": "paul_reaidy",
   "language": "python",
   "name": "paul_reaidy"
  },
  "language_info": {
   "codemirror_mode": {
    "name": "ipython",
    "version": 3
   },
   "file_extension": ".py",
   "mimetype": "text/x-python",
   "name": "python",
   "nbconvert_exporter": "python",
   "pygments_lexer": "ipython3",
   "version": "3.11.5"
  },
  "toc-autonumbering": true,
  "widgets": {
   "application/vnd.jupyter.widget-state+json": {
    "state": {
     "822d4cb21e794011b6b34b7502072678": {
      "model_module": "@jupyter-widgets/controls",
      "model_module_version": "2.0.0",
      "model_name": "FloatProgressModel",
      "state": {
       "bar_style": "info",
       "description": "Running",
       "layout": "IPY_MODEL_bf1c2949a7f047f4aff26561d01ac2d4",
       "max": 1,
       "style": "IPY_MODEL_a750dc0b04c14ecf8d102b7b6b6380a0",
       "value": 0.9
      }
     },
     "a750dc0b04c14ecf8d102b7b6b6380a0": {
      "model_module": "@jupyter-widgets/controls",
      "model_module_version": "2.0.0",
      "model_name": "ProgressStyleModel",
      "state": {
       "description_width": ""
      }
     },
     "bf1c2949a7f047f4aff26561d01ac2d4": {
      "model_module": "@jupyter-widgets/base",
      "model_module_version": "2.0.0",
      "model_name": "LayoutModel",
      "state": {}
     },
     "e3332bcc96bc4f81b29d476265e6a52a": {
      "model_module": "@jupyter-widgets/base",
      "model_module_version": "2.0.0",
      "model_name": "LayoutModel",
      "state": {
       "width": "100%"
      }
     }
    },
    "version_major": 2,
    "version_minor": 0
   }
  }
 },
 "nbformat": 4,
 "nbformat_minor": 4
}
